{
  "cells": [
    {
      "cell_type": "markdown",
      "metadata": {
        "id": "o1cEsb24Ojrh"
      },
      "source": [
        "# **Healthbot**\n"
      ]
    },
    {
      "cell_type": "code",
      "execution_count": 3,
      "metadata": {
        "colab": {
          "base_uri": "https://localhost:8080/"
        },
        "id": "qeHB7-cpOch5",
        "outputId": "9e512540-7fc2-41c1-da10-dc0667e2f1ce"
      },
      "outputs": [
        {
          "output_type": "stream",
          "name": "stdout",
          "text": [
            "Cloning into 'ChatterBot'...\n",
            "remote: Enumerating objects: 13936, done.\u001b[K\n",
            "remote: Counting objects: 100% (285/285), done.\u001b[K\n",
            "remote: Compressing objects: 100% (148/148), done.\u001b[K\n",
            "remote: Total 13936 (delta 150), reused 138 (delta 137), pack-reused 13651 (from 4)\u001b[K\n",
            "Receiving objects: 100% (13936/13936), 8.19 MiB | 18.97 MiB/s, done.\n",
            "Resolving deltas: 100% (9529/9529), done.\n",
            "/content/ChatterBot/ChatterBot\n",
            "Obtaining file:///content/ChatterBot/ChatterBot\n",
            "  Installing build dependencies ... \u001b[?25l\u001b[?25hdone\n",
            "  Checking if build backend supports build_editable ... \u001b[?25l\u001b[?25hdone\n",
            "  Getting requirements to build editable ... \u001b[?25l\u001b[?25hdone\n",
            "  Preparing editable metadata (pyproject.toml) ... \u001b[?25l\u001b[?25hdone\n",
            "Requirement already satisfied: mathparse<0.2,>=0.1 in /usr/local/lib/python3.11/dist-packages (from ChatterBot==1.2.7) (0.1.5)\n",
            "Requirement already satisfied: python-dateutil<2.10,>=2.9 in /usr/local/lib/python3.11/dist-packages (from ChatterBot==1.2.7) (2.9.0.post0)\n",
            "Requirement already satisfied: sqlalchemy<2.1,>=2.0 in /usr/local/lib/python3.11/dist-packages (from ChatterBot==1.2.7) (2.0.40)\n",
            "Requirement already satisfied: spacy<3.9,>=3.8 in /usr/local/lib/python3.11/dist-packages (from ChatterBot==1.2.7) (3.8.5)\n",
            "Requirement already satisfied: tqdm in /usr/local/lib/python3.11/dist-packages (from ChatterBot==1.2.7) (4.67.1)\n",
            "Requirement already satisfied: six>=1.5 in /usr/local/lib/python3.11/dist-packages (from python-dateutil<2.10,>=2.9->ChatterBot==1.2.7) (1.17.0)\n",
            "Requirement already satisfied: spacy-legacy<3.1.0,>=3.0.11 in /usr/local/lib/python3.11/dist-packages (from spacy<3.9,>=3.8->ChatterBot==1.2.7) (3.0.12)\n",
            "Requirement already satisfied: spacy-loggers<2.0.0,>=1.0.0 in /usr/local/lib/python3.11/dist-packages (from spacy<3.9,>=3.8->ChatterBot==1.2.7) (1.0.5)\n",
            "Requirement already satisfied: murmurhash<1.1.0,>=0.28.0 in /usr/local/lib/python3.11/dist-packages (from spacy<3.9,>=3.8->ChatterBot==1.2.7) (1.0.12)\n",
            "Requirement already satisfied: cymem<2.1.0,>=2.0.2 in /usr/local/lib/python3.11/dist-packages (from spacy<3.9,>=3.8->ChatterBot==1.2.7) (2.0.11)\n",
            "Requirement already satisfied: preshed<3.1.0,>=3.0.2 in /usr/local/lib/python3.11/dist-packages (from spacy<3.9,>=3.8->ChatterBot==1.2.7) (3.0.9)\n",
            "Requirement already satisfied: thinc<8.4.0,>=8.3.4 in /usr/local/lib/python3.11/dist-packages (from spacy<3.9,>=3.8->ChatterBot==1.2.7) (8.3.6)\n",
            "Requirement already satisfied: wasabi<1.2.0,>=0.9.1 in /usr/local/lib/python3.11/dist-packages (from spacy<3.9,>=3.8->ChatterBot==1.2.7) (1.1.3)\n",
            "Requirement already satisfied: srsly<3.0.0,>=2.4.3 in /usr/local/lib/python3.11/dist-packages (from spacy<3.9,>=3.8->ChatterBot==1.2.7) (2.5.1)\n",
            "Requirement already satisfied: catalogue<2.1.0,>=2.0.6 in /usr/local/lib/python3.11/dist-packages (from spacy<3.9,>=3.8->ChatterBot==1.2.7) (2.0.10)\n",
            "Requirement already satisfied: weasel<0.5.0,>=0.1.0 in /usr/local/lib/python3.11/dist-packages (from spacy<3.9,>=3.8->ChatterBot==1.2.7) (0.4.1)\n",
            "Requirement already satisfied: typer<1.0.0,>=0.3.0 in /usr/local/lib/python3.11/dist-packages (from spacy<3.9,>=3.8->ChatterBot==1.2.7) (0.15.2)\n",
            "Requirement already satisfied: numpy>=1.19.0 in /usr/local/lib/python3.11/dist-packages (from spacy<3.9,>=3.8->ChatterBot==1.2.7) (2.0.2)\n",
            "Requirement already satisfied: requests<3.0.0,>=2.13.0 in /usr/local/lib/python3.11/dist-packages (from spacy<3.9,>=3.8->ChatterBot==1.2.7) (2.32.3)\n",
            "Requirement already satisfied: pydantic!=1.8,!=1.8.1,<3.0.0,>=1.7.4 in /usr/local/lib/python3.11/dist-packages (from spacy<3.9,>=3.8->ChatterBot==1.2.7) (2.11.3)\n",
            "Requirement already satisfied: jinja2 in /usr/local/lib/python3.11/dist-packages (from spacy<3.9,>=3.8->ChatterBot==1.2.7) (3.1.6)\n",
            "Requirement already satisfied: setuptools in /usr/local/lib/python3.11/dist-packages (from spacy<3.9,>=3.8->ChatterBot==1.2.7) (75.2.0)\n",
            "Requirement already satisfied: packaging>=20.0 in /usr/local/lib/python3.11/dist-packages (from spacy<3.9,>=3.8->ChatterBot==1.2.7) (24.2)\n",
            "Requirement already satisfied: langcodes<4.0.0,>=3.2.0 in /usr/local/lib/python3.11/dist-packages (from spacy<3.9,>=3.8->ChatterBot==1.2.7) (3.5.0)\n",
            "Requirement already satisfied: greenlet>=1 in /usr/local/lib/python3.11/dist-packages (from sqlalchemy<2.1,>=2.0->ChatterBot==1.2.7) (3.2.1)\n",
            "Requirement already satisfied: typing-extensions>=4.6.0 in /usr/local/lib/python3.11/dist-packages (from sqlalchemy<2.1,>=2.0->ChatterBot==1.2.7) (4.13.2)\n",
            "Requirement already satisfied: language-data>=1.2 in /usr/local/lib/python3.11/dist-packages (from langcodes<4.0.0,>=3.2.0->spacy<3.9,>=3.8->ChatterBot==1.2.7) (1.3.0)\n",
            "Requirement already satisfied: annotated-types>=0.6.0 in /usr/local/lib/python3.11/dist-packages (from pydantic!=1.8,!=1.8.1,<3.0.0,>=1.7.4->spacy<3.9,>=3.8->ChatterBot==1.2.7) (0.7.0)\n",
            "Requirement already satisfied: pydantic-core==2.33.1 in /usr/local/lib/python3.11/dist-packages (from pydantic!=1.8,!=1.8.1,<3.0.0,>=1.7.4->spacy<3.9,>=3.8->ChatterBot==1.2.7) (2.33.1)\n",
            "Requirement already satisfied: typing-inspection>=0.4.0 in /usr/local/lib/python3.11/dist-packages (from pydantic!=1.8,!=1.8.1,<3.0.0,>=1.7.4->spacy<3.9,>=3.8->ChatterBot==1.2.7) (0.4.0)\n",
            "Requirement already satisfied: charset-normalizer<4,>=2 in /usr/local/lib/python3.11/dist-packages (from requests<3.0.0,>=2.13.0->spacy<3.9,>=3.8->ChatterBot==1.2.7) (3.4.1)\n",
            "Requirement already satisfied: idna<4,>=2.5 in /usr/local/lib/python3.11/dist-packages (from requests<3.0.0,>=2.13.0->spacy<3.9,>=3.8->ChatterBot==1.2.7) (3.10)\n",
            "Requirement already satisfied: urllib3<3,>=1.21.1 in /usr/local/lib/python3.11/dist-packages (from requests<3.0.0,>=2.13.0->spacy<3.9,>=3.8->ChatterBot==1.2.7) (2.3.0)\n",
            "Requirement already satisfied: certifi>=2017.4.17 in /usr/local/lib/python3.11/dist-packages (from requests<3.0.0,>=2.13.0->spacy<3.9,>=3.8->ChatterBot==1.2.7) (2025.1.31)\n",
            "Requirement already satisfied: blis<1.4.0,>=1.3.0 in /usr/local/lib/python3.11/dist-packages (from thinc<8.4.0,>=8.3.4->spacy<3.9,>=3.8->ChatterBot==1.2.7) (1.3.0)\n",
            "Requirement already satisfied: confection<1.0.0,>=0.0.1 in /usr/local/lib/python3.11/dist-packages (from thinc<8.4.0,>=8.3.4->spacy<3.9,>=3.8->ChatterBot==1.2.7) (0.1.5)\n",
            "Requirement already satisfied: click>=8.0.0 in /usr/local/lib/python3.11/dist-packages (from typer<1.0.0,>=0.3.0->spacy<3.9,>=3.8->ChatterBot==1.2.7) (8.1.8)\n",
            "Requirement already satisfied: shellingham>=1.3.0 in /usr/local/lib/python3.11/dist-packages (from typer<1.0.0,>=0.3.0->spacy<3.9,>=3.8->ChatterBot==1.2.7) (1.5.4)\n",
            "Requirement already satisfied: rich>=10.11.0 in /usr/local/lib/python3.11/dist-packages (from typer<1.0.0,>=0.3.0->spacy<3.9,>=3.8->ChatterBot==1.2.7) (13.9.4)\n",
            "Requirement already satisfied: cloudpathlib<1.0.0,>=0.7.0 in /usr/local/lib/python3.11/dist-packages (from weasel<0.5.0,>=0.1.0->spacy<3.9,>=3.8->ChatterBot==1.2.7) (0.21.0)\n",
            "Requirement already satisfied: smart-open<8.0.0,>=5.2.1 in /usr/local/lib/python3.11/dist-packages (from weasel<0.5.0,>=0.1.0->spacy<3.9,>=3.8->ChatterBot==1.2.7) (7.1.0)\n",
            "Requirement already satisfied: MarkupSafe>=2.0 in /usr/local/lib/python3.11/dist-packages (from jinja2->spacy<3.9,>=3.8->ChatterBot==1.2.7) (3.0.2)\n",
            "Requirement already satisfied: marisa-trie>=1.1.0 in /usr/local/lib/python3.11/dist-packages (from language-data>=1.2->langcodes<4.0.0,>=3.2.0->spacy<3.9,>=3.8->ChatterBot==1.2.7) (1.2.1)\n",
            "Requirement already satisfied: markdown-it-py>=2.2.0 in /usr/local/lib/python3.11/dist-packages (from rich>=10.11.0->typer<1.0.0,>=0.3.0->spacy<3.9,>=3.8->ChatterBot==1.2.7) (3.0.0)\n",
            "Requirement already satisfied: pygments<3.0.0,>=2.13.0 in /usr/local/lib/python3.11/dist-packages (from rich>=10.11.0->typer<1.0.0,>=0.3.0->spacy<3.9,>=3.8->ChatterBot==1.2.7) (2.18.0)\n",
            "Requirement already satisfied: wrapt in /usr/local/lib/python3.11/dist-packages (from smart-open<8.0.0,>=5.2.1->weasel<0.5.0,>=0.1.0->spacy<3.9,>=3.8->ChatterBot==1.2.7) (1.17.2)\n",
            "Requirement already satisfied: mdurl~=0.1 in /usr/local/lib/python3.11/dist-packages (from markdown-it-py>=2.2.0->rich>=10.11.0->typer<1.0.0,>=0.3.0->spacy<3.9,>=3.8->ChatterBot==1.2.7) (0.1.2)\n",
            "Building wheels for collected packages: ChatterBot\n",
            "  Building editable for ChatterBot (pyproject.toml) ... \u001b[?25l\u001b[?25hdone\n",
            "  Created wheel for ChatterBot: filename=chatterbot-1.2.7-0.editable-py3-none-any.whl size=6207 sha256=df51c67203bb46d682524cff512bbedcc6f2e0a1492356f1a3329f8dba9ebbe9\n",
            "  Stored in directory: /tmp/pip-ephem-wheel-cache-o9sozk7h/wheels/11/41/c3/18800a91ed7c4f8ce276b3db8f430e318a7347e67ce8eede8b\n",
            "Successfully built ChatterBot\n",
            "Installing collected packages: ChatterBot\n",
            "  Attempting uninstall: ChatterBot\n",
            "    Found existing installation: ChatterBot 1.2.7\n",
            "    Uninstalling ChatterBot-1.2.7:\n",
            "      Successfully uninstalled ChatterBot-1.2.7\n",
            "Successfully installed ChatterBot-1.2.7\n",
            "ChatterBot is working on Colab!\n"
          ]
        }
      ],
      "source": [
        "# Install ChatterBot from source (patched version)\n",
        "!git clone https://github.com/gunthercox/ChatterBot.git\n",
        "%cd ChatterBot\n",
        "!pip install -e .\n",
        "\n",
        "# Now import\n",
        "from chatterbot import ChatBot\n",
        "from chatterbot.trainers import ListTrainer\n",
        "\n",
        "print(\"ChatterBot is working on Colab!\")"
      ]
    },
    {
      "cell_type": "code",
      "execution_count": 4,
      "metadata": {
        "colab": {
          "base_uri": "https://localhost:8080/"
        },
        "id": "yo1lDAx-PHaa",
        "outputId": "8dfe1e8a-28fe-47ca-f784-141c024b5be2"
      },
      "outputs": [
        {
          "output_type": "stream",
          "name": "stderr",
          "text": [
            "List Trainer: 48it [00:00, 408.26it/s]"
          ]
        },
        {
          "output_type": "stream",
          "name": "stdout",
          "text": [
            "Model Trained Successfully.\n"
          ]
        },
        {
          "output_type": "stream",
          "name": "stderr",
          "text": [
            "\n"
          ]
        }
      ],
      "source": [
        "from chatterbot import ChatBot\n",
        "from chatterbot.trainers import ListTrainer\n",
        "healthbot = ChatBot('HealthBot',read_only=True,logic_adapters=['chatterbot.logic.BestMatch'])\n",
        "trainer = ListTrainer(healthbot)\n",
        "conversation = [\n",
        "    'Hi','Hello! I am HealthBot. How can I assist you today?',\n",
        "    'Hello','Hi! Do you have a health-related question?',\n",
        "    'I have a headache','You should rest, stay hydrated, and take a mild pain reliever if needed.',\n",
        "    'What should I do if I have a fever?','Drink plenty of fluids and rest. If the fever persists, please consult a doctor.',\n",
        "    'I feel dizzy','Sit down, breathe deeply, and drink water. If it continues, seek medical help.',\n",
        "    'What should I eat for a cold?','Warm fluids, soups, citrus fruits, and light meals help during a cold.',\n",
        "    'How to stay healthy?','Eat balanced meals, exercise regularly, stay hydrated, and get enough sleep.',\n",
        "    'What should I do in case of a cut?','Clean the wound with water, apply antiseptic, and cover it with a clean bandage.',\n",
        "    'How much water should I drink daily?','Generally, 2 to 3 liters per day is recommended, but it varies based on your activity.',\n",
        "    'Thank you','You’re welcome! Take care.',\n",
        "    'Bye','Goodbye! Stay healthy.',\n",
        "    'I have a stomach ache','Try to rest and avoid solid foods for a few hours. If it persists, consult a doctor.',\n",
        "    'What to do if I feel nauseous?','Try sipping on ginger tea or lemon water. Rest and avoid strong smells or spicy food.',\n",
        "    'I have a sore throat','Gargle with warm salt water, drink warm fluids, and avoid cold or irritating foods.',\n",
        "    'How to improve immunity?','Eat fruits and vegetables, get enough sleep, exercise regularly, and manage stress.',\n",
        "    'Can I exercise if I’m sick?','If it’s just a mild cold, light exercise might be okay. But rest if you have a fever or fatigue.',\n",
        "    'How can I reduce stress?','Try meditation, deep breathing, regular exercise, and ensuring good sleep.',\n",
        "    'I am feeling anxious','Talk to someone you trust, practice deep breathing, or try relaxation techniques. If it continues, consider professional help.',\n",
        "    'What to do if I get a burn?','Cool the burn with running water for several minutes. Don’t apply ice. Cover with a clean cloth and consult a doctor if severe.',\n",
        "    'Can I take painkillers daily?','It’s not recommended to take painkillers regularly without a doctor’s advice. Long-term use can have side effects.',\n",
        "    'How can I sleep better?','Maintain a regular sleep schedule, avoid screens before bed, and keep your bedroom quiet and dark.',\n",
        "    'Is skipping meals harmful?','Yes, skipping meals can affect your metabolism and energy. Try to eat small, healthy meals on time.',\n",
        "    'Should I take vitamins daily?','It depends on your diet and health. It’s best to consult a doctor before taking supplements regularly.',\n",
        "    'How to treat a cold naturally?','Rest, drink warm fluids, use steam inhalation, and consume honey, ginger, or tulsi for relief.'\n",
        "]\n",
        "trainer.train(conversation)\n",
        "print('Model Trained Successfully.')"
      ]
    },
    {
      "cell_type": "code",
      "execution_count": null,
      "metadata": {
        "colab": {
          "base_uri": "https://localhost:8080/"
        },
        "id": "lA1TYq_CRf4C",
        "outputId": "0f37c27a-5373-4723-fd03-25ce1cff6250"
      },
      "outputs": [
        {
          "output_type": "stream",
          "name": "stdout",
          "text": [
            "You: Hi\n",
            "HealthBot: Hello! I am HealthBot. How can I assist you today?\n",
            "You: I have a headache\n",
            "HealthBot: You should rest, stay hydrated, and take a mild pain reliever if needed.\n",
            "You: I have a stomach ache\n",
            "HealthBot: Try to rest and avoid solid foods for a few hours. If it persists, consult a doctor.\n",
            "You: Is skipping meals harmful?\n",
            "HealthBot: Yes, skipping meals can affect your metabolism and energy. Try to eat small, healthy meals on time.\n",
            "You: How to treat a cold naturally?\n",
            "HealthBot: Rest, drink warm fluids, use steam inhalation, and consume honey, ginger, or tulsi for relief.\n",
            "You: Bye\n",
            "HealthBot: Goodbye! Stay healthy.\n"
          ]
        }
      ],
      "source": [
        "def chat_with_healthbot():\n",
        "    while True:\n",
        "        user_input = input(\"You: \")\n",
        "        if user_input.lower() == 'exit':\n",
        "            print(\"HealthBot: Goodbye! Stay healthy.\")\n",
        "            break\n",
        "        response = healthbot.get_response(user_input)\n",
        "        print(f\"HealthBot: {response}\")\n",
        "chat_with_healthbot()"
      ]
    }
  ],
  "metadata": {
    "colab": {
      "provenance": []
    },
    "kernelspec": {
      "display_name": "Python 3",
      "name": "python3"
    },
    "language_info": {
      "name": "python"
    }
  },
  "nbformat": 4,
  "nbformat_minor": 0
}